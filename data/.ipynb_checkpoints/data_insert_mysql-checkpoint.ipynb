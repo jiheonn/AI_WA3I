{
 "cells": [
  {
   "cell_type": "code",
   "execution_count": 1,
   "metadata": {},
   "outputs": [],
   "source": [
    "import pandas as pd\n",
    "import sqlite3"
   ]
  },
  {
   "cell_type": "code",
   "execution_count": 2,
   "metadata": {},
   "outputs": [],
   "source": [
    "data_list = ['sample_data/wa3i_sample_data - teacher.csv',\n",
    "             'sample_data/wa3i_sample_data - assignment.csv',\n",
    "             'sample_data/wa3i_sample_data - makequestion.csv',\n",
    "             'sample_data/wa3i_sample_data - selfsolvedata.csv',\n",
    "             'sample_data/wa3i_sample_data - mark.csv',\n",
    "             'sample_data/wa3i_sample_data - category.csv',\n",
    "             'sample_data/wa3i_sample_data - question.csv',\n",
    "             'sample_data/wa3i_sample_data - studysolvedata.csv',\n",
    "             'sample_data/wa3i_sample_data - keyword.csv',\n",
    "             'sample_data/wa3i_sample_data - assignmentquestionrel.csv',\n",
    "             'sample_data/wa3i_sample_data - solve.csv',\n",
    "            ]"
   ]
  },
  {
   "cell_type": "code",
   "execution_count": 3,
   "metadata": {},
   "outputs": [],
   "source": [
    "app_name = \"mainpage\""
   ]
  },
  {
   "cell_type": "code",
   "execution_count": 4,
   "metadata": {},
   "outputs": [
    {
     "name": "stdout",
     "output_type": "stream",
     "text": [
      "teacher table insert를 완료하였습니다.\n",
      "assignment table insert를 완료하였습니다.\n",
      "makequestion table insert를 완료하였습니다.\n",
      "selfsolvedata table insert를 완료하였습니다.\n",
      "mark table insert를 완료하였습니다.\n",
      "category table insert를 완료하였습니다.\n",
      "question table insert를 완료하였습니다.\n",
      "studysolvedata table insert를 완료하였습니다.\n",
      "keyword table insert를 완료하였습니다.\n",
      "assignmentquestionrel table insert를 완료하였습니다.\n",
      "solve table insert를 완료하였습니다.\n"
     ]
    }
   ],
   "source": [
    "with sqlite3.connect('../mysite/db.sqlite3') as conn:\n",
    "    cur = conn.cursor()\n",
    "    for i in data_list:\n",
    "        df = pd.read_csv(i, index_col=False)\n",
    "        query = \"insert into %s (%s) values (%s)\" % (app_name+\"_\"+i[31:-4], ', '.join(df.columns), ', '.join([\"?\" for i in range(len(df.columns))]))\n",
    "        cur.executemany(query, df.values.tolist())\n",
    "        conn.commit()\n",
    "        print(i[31:-4], \"table insert를 완료하였습니다.\")"
   ]
  }
 ],
 "metadata": {
  "kernelspec": {
   "display_name": "python_3",
   "language": "python",
   "name": "python_3"
  },
  "language_info": {
   "codemirror_mode": {
    "name": "ipython",
    "version": 3
   },
   "file_extension": ".py",
   "mimetype": "text/x-python",
   "name": "python",
   "nbconvert_exporter": "python",
   "pygments_lexer": "ipython3",
   "version": "3.7.6"
  }
 },
 "nbformat": 4,
 "nbformat_minor": 4
}
